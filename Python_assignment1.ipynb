{
  "nbformat": 4,
  "nbformat_minor": 0,
  "metadata": {
    "colab": {
      "provenance": [],
      "authorship_tag": "ABX9TyM4w4W78wWrgfSIhmNo3Q9u",
      "include_colab_link": true
    },
    "kernelspec": {
      "name": "python3",
      "display_name": "Python 3"
    },
    "language_info": {
      "name": "python"
    }
  },
  "cells": [
    {
      "cell_type": "markdown",
      "metadata": {
        "id": "view-in-github",
        "colab_type": "text"
      },
      "source": [
        "<a href=\"https://colab.research.google.com/github/SatishChougule81/PW_Assignments/blob/main/Python_assignment1.ipynb\" target=\"_parent\"><img src=\"https://colab.research.google.com/assets/colab-badge.svg\" alt=\"Open In Colab\"/></a>"
      ]
    },
    {
      "cell_type": "markdown",
      "source": [
        "Q1. Explain with an example each when to use a for loop and a while loop.\n",
        "\n",
        "Ans:\n",
        "\n",
        "For loop :-\n",
        "It used when we have to execute a block of code repeatedly for a fixed number of times or on a sequence of elements. "
      ],
      "metadata": {
        "id": "W_Xp82aU126k"
      }
    },
    {
      "cell_type": "code",
      "source": [
        "# Using for loop to iterate over a sequence\n",
        "roles=[\"Data Engineer\",\"Data scientist\",\"ML engineer\",\"AI developer\",\"data analyst\"]\n",
        "for role in roles:\n",
        "    print(role)\n"
      ],
      "metadata": {
        "colab": {
          "base_uri": "https://localhost:8080/"
        },
        "id": "CVmq8DcY2v_V",
        "outputId": "d7d7a7b5-8136-47fd-e9c7-381f0fa31650"
      },
      "execution_count": null,
      "outputs": [
        {
          "output_type": "stream",
          "name": "stdout",
          "text": [
            "Data Engineer\n",
            "Data scientist\n",
            "ML engineer\n",
            "AI developer\n",
            "data analyst\n"
          ]
        }
      ]
    },
    {
      "cell_type": "markdown",
      "source": [
        "A while loop is used when we have to execute a block of code repeatedly as long as a certain condition is true. "
      ],
      "metadata": {
        "id": "sCZaspQM4U9e"
      }
    },
    {
      "cell_type": "code",
      "source": [
        "# Using for loop to iterate over a sequence\n",
        "i = 1\n",
        "while i < 6:\n",
        "    print(i)\n",
        "    i += 1\n"
      ],
      "metadata": {
        "colab": {
          "base_uri": "https://localhost:8080/"
        },
        "id": "eRwVI9yO4iNA",
        "outputId": "5909684c-9fe9-43f1-c58a-1aeb2539588e"
      },
      "execution_count": null,
      "outputs": [
        {
          "output_type": "stream",
          "name": "stdout",
          "text": [
            "1\n",
            "2\n",
            "3\n",
            "4\n",
            "5\n"
          ]
        }
      ]
    },
    {
      "cell_type": "markdown",
      "source": [
        "Q2. Write a python program to print the sum and product of the first 10 natural numbers using for and while loop."
      ],
      "metadata": {
        "id": "EZatBlNZ5vdF"
      }
    },
    {
      "cell_type": "code",
      "source": [
        "# Using for loop to calculate sum and product of first 10 natural numbers\n",
        "sum = 0\n",
        "product = 1\n",
        "for i in range(1, 11):\n",
        "    sum += i\n",
        "    product *= i\n",
        "\n",
        "print(\"Sum =\", sum)\n",
        "print(\"Product =\", product)\n"
      ],
      "metadata": {
        "colab": {
          "base_uri": "https://localhost:8080/"
        },
        "id": "GmILMuqE5xCd",
        "outputId": "5085665a-817f-4b9e-a051-d15d20f0e69c"
      },
      "execution_count": null,
      "outputs": [
        {
          "output_type": "stream",
          "name": "stdout",
          "text": [
            "Sum = 55\n",
            "Product = 3628800\n"
          ]
        }
      ]
    },
    {
      "cell_type": "code",
      "source": [
        "# Using while loop to calculate sum and product of first 10 natural numbers\n",
        "sum = 0\n",
        "product = 1\n",
        "i = 1\n",
        "while i <= 10:\n",
        "    sum += i\n",
        "    product *= i\n",
        "    i += 1\n",
        "print(\"Sum =\", sum)\n",
        "print(\"Product =\", product)"
      ],
      "metadata": {
        "colab": {
          "base_uri": "https://localhost:8080/"
        },
        "id": "Y__rZdd86BIs",
        "outputId": "a8cb275c-9a75-4f27-f80f-828b6a973bf7"
      },
      "execution_count": null,
      "outputs": [
        {
          "output_type": "stream",
          "name": "stdout",
          "text": [
            "Sum = 55\n",
            "Product = 3628800\n"
          ]
        }
      ]
    },
    {
      "cell_type": "markdown",
      "source": [
        "Q3. Create a python program to compute the electricity bill for a household.\n"
      ],
      "metadata": {
        "id": "QuzimjfF6NBt"
      }
    },
    {
      "cell_type": "code",
      "source": [
        "# Taking input from user\n",
        "units = int(input(\"Enter the number of units: \"))\n",
        "\n",
        "# Calculating bill amount\n",
        "                                                                       \n",
        "if units <= 100:                                                       # For the first 100 units, the user will be charged Rs. 4.5 per unit\n",
        "    bill_amount = units * 4.5                                           \n",
        "elif units <= 200:                                                     # for the next 100 units, the user will be charged Rs. 6 per unit\n",
        "    bill_amount = 100 * 4.5 + (units - 100) * 6\n",
        "elif units <= 300:                                                     # next 100 units, the user will be charged Rs. 10 per unit\n",
        "    bill_amount = 100 * 4.5 + 100 * 6 + (units - 200) * 10\n",
        "else:                                                                  #  After 300 units and above the user will be charged Rs. 20 per unit.\n",
        "    bill_amount = 100 * 4.5 + 100 * 6 + 100 * 10 + (units - 300) * 20\n",
        "\n",
        "# Adding extra chearge\n",
        "if bill_amount > 500:\n",
        "    surcharge = bill_amount * 0.15\n",
        "    bill_amount += surcharge\n",
        "\n",
        "# Total bill amount\n",
        "print(\"Electricity bill =\", bill_amount)\n"
      ],
      "metadata": {
        "colab": {
          "base_uri": "https://localhost:8080/"
        },
        "id": "xmJKZW9Y6Q81",
        "outputId": "e2a3a8f5-3d73-40c3-daaf-c5c33febcf11"
      },
      "execution_count": null,
      "outputs": [
        {
          "output_type": "stream",
          "name": "stdout",
          "text": [
            "Enter the number of units: 100\n",
            "Electricity bill = 450.0\n"
          ]
        }
      ]
    },
    {
      "cell_type": "markdown",
      "source": [
        "Q4. Create a list of numbers from 1 to 100. Use for loop and while loop to calculate the cube of each number and if the cube of that number is divisible by 4 or 5 then append that number in a list and print that list."
      ],
      "metadata": {
        "id": "UT3A0siZ9Nn-"
      }
    },
    {
      "cell_type": "code",
      "source": [
        "# Using for loop to calculate the cubes and append numbers to the list\n",
        "cubes_list_using_for_loop = []\n",
        "for i in range(1, 101):\n",
        "    cube = i ** 3\n",
        "    if cube % 4 == 0 or cube % 5 == 0:\n",
        "        cubes_list_using_for_loop.append(i)\n",
        "print(\"Using for loop:\", cubes_list_using_for_loop)\n"
      ],
      "metadata": {
        "colab": {
          "base_uri": "https://localhost:8080/"
        },
        "id": "ay6052We9PYV",
        "outputId": "74a5acb6-54aa-49ba-ce09-754564c94375"
      },
      "execution_count": null,
      "outputs": [
        {
          "output_type": "stream",
          "name": "stdout",
          "text": [
            "Using for loop: [2, 4, 5, 6, 8, 10, 12, 14, 15, 16, 18, 20, 22, 24, 25, 26, 28, 30, 32, 34, 35, 36, 38, 40, 42, 44, 45, 46, 48, 50, 52, 54, 55, 56, 58, 60, 62, 64, 65, 66, 68, 70, 72, 74, 75, 76, 78, 80, 82, 84, 85, 86, 88, 90, 92, 94, 95, 96, 98, 100]\n"
          ]
        }
      ]
    },
    {
      "cell_type": "code",
      "source": [
        "# Using while loop to calculate the cubes and append numbers to the list\n",
        "cubes_list_using_while_loop = []\n",
        "i = 1\n",
        "while i <= 100:\n",
        "    cube = i ** 3\n",
        "    if cube % 4 == 0 or cube % 5 == 0:\n",
        "        cubes_list_using_while_loop.append(i)\n",
        "    i += 1\n",
        "print(\"Using while loop:\", cubes_list_using_while_loop)\n"
      ],
      "metadata": {
        "colab": {
          "base_uri": "https://localhost:8080/"
        },
        "id": "kGOYLy3C9bZN",
        "outputId": "e3f16099-ebf6-4632-f962-11cd0fd5907f"
      },
      "execution_count": null,
      "outputs": [
        {
          "output_type": "stream",
          "name": "stdout",
          "text": [
            "Using while loop: [2, 4, 5, 6, 8, 10, 12, 14, 15, 16, 18, 20, 22, 24, 25, 26, 28, 30, 32, 34, 35, 36, 38, 40, 42, 44, 45, 46, 48, 50, 52, 54, 55, 56, 58, 60, 62, 64, 65, 66, 68, 70, 72, 74, 75, 76, 78, 80, 82, 84, 85, 86, 88, 90, 92, 94, 95, 96, 98, 100]\n"
          ]
        }
      ]
    },
    {
      "cell_type": "markdown",
      "source": [
        "Q5.  Write a program to filter count vowels in the below-given string.\n",
        "string = \"I want to become a data scientist\""
      ],
      "metadata": {
        "id": "Hjmo1H7M94Vd"
      }
    },
    {
      "cell_type": "code",
      "source": [
        "string = \"I want to become a data scientist\" #input string \n",
        "vowels = \"aeiouAEIOU\"  #define vowels\n",
        "count = 0 # counter set to 0\n",
        "\n",
        "# get single character from string \n",
        "for char in string: \n",
        "    if char in vowels:\n",
        "        count += 1\n",
        "print(\"Vowels in the string:\", count)\n"
      ],
      "metadata": {
        "colab": {
          "base_uri": "https://localhost:8080/"
        },
        "id": "jS4wj5Ag95-l",
        "outputId": "831c0bde-384c-4d5f-cb34-56689bd02f4a"
      },
      "execution_count": null,
      "outputs": [
        {
          "output_type": "stream",
          "name": "stdout",
          "text": [
            "Vowels in the string: 12\n"
          ]
        }
      ]
    }
  ]
}