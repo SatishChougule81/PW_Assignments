{
  "nbformat": 4,
  "nbformat_minor": 0,
  "metadata": {
    "colab": {
      "provenance": [],
      "authorship_tag": "ABX9TyOxKWYjTQY+iMJVYnlbjh17",
      "include_colab_link": true
    },
    "kernelspec": {
      "name": "python3",
      "display_name": "Python 3"
    },
    "language_info": {
      "name": "python"
    }
  },
  "cells": [
    {
      "cell_type": "markdown",
      "metadata": {
        "id": "view-in-github",
        "colab_type": "text"
      },
      "source": [
        "<a href=\"https://colab.research.google.com/github/SatishChougule81/PW_Assignments/blob/main/Python_assignment2.ipynb\" target=\"_parent\"><img src=\"https://colab.research.google.com/assets/colab-badge.svg\" alt=\"Open In Colab\"/></a>"
      ]
    },
    {
      "cell_type": "markdown",
      "source": [
        "Q1: The keyword used to create a function in Python is \"def\". Here's an example function that returns a list of odd numbers in the range of 1 to 25.\n",
        "\n",
        "\n",
        "Ans :The keyword used to create a function in Python is \"def\". "
      ],
      "metadata": {
        "id": "-FeA3E4mXp1d"
      }
    },
    {
      "cell_type": "code",
      "source": [
        "# This function to get odd numbers\n",
        "def get_odd_numbers():\n",
        "    odd_numbers = []\n",
        "    for i in range(1, 26):\n",
        "        if i % 2 == 1:\n",
        "            odd_numbers.append(i)\n",
        "    return odd_numbers\n",
        "get_odd_numbers()"
      ],
      "metadata": {
        "colab": {
          "base_uri": "https://localhost:8080/"
        },
        "id": "lzo7A-m7YaVW",
        "outputId": "20d1b15c-cca1-4ef8-eb03-fcc571d18956"
      },
      "execution_count": 23,
      "outputs": [
        {
          "output_type": "execute_result",
          "data": {
            "text/plain": [
              "[1, 3, 5, 7, 9, 11, 13, 15, 17, 19, 21, 23, 25]"
            ]
          },
          "metadata": {},
          "execution_count": 23
        }
      ]
    },
    {
      "cell_type": "markdown",
      "source": [
        "Q2. Why *args and **kwargs is used in some functions? Create a function each for *args and **kwargs\n",
        "to demonstrate their use.\n",
        "\n",
        "Ans: The *args and **kwargs are used to pass a variable number of arguments to a function. \n",
        "\n",
        "The *args is used to pass a variable number of non-keyword arguments, while **kwargs is used to pass a variable number of keyword arguments."
      ],
      "metadata": {
        "id": "f_9OA0NAYre_"
      }
    },
    {
      "cell_type": "code",
      "source": [
        "# This function to print_args\n",
        "def print_args(*args):\n",
        "    for arg in args:\n",
        "        print(arg)\n",
        "\n",
        "# This function to print_kwargs\n",
        "def print_kwargs(**kwargs):\n",
        "    for key, value in kwargs.items():\n",
        "        print(key, value)\n",
        "\n",
        "print_args(1, 2, 3, \"satish\")\n",
        "print_kwargs(name=\"rohan\", age=28, city=\"Mumbia\")"
      ],
      "metadata": {
        "colab": {
          "base_uri": "https://localhost:8080/"
        },
        "id": "hO0w_aa3ZH2Q",
        "outputId": "4fd4d481-771c-494c-8f4d-43fe86524c69"
      },
      "execution_count": 24,
      "outputs": [
        {
          "output_type": "stream",
          "name": "stdout",
          "text": [
            "1\n",
            "2\n",
            "3\n",
            "satish\n",
            "name rohan\n",
            "age 28\n",
            "city Mumbia\n"
          ]
        }
      ]
    },
    {
      "cell_type": "markdown",
      "source": [
        "Q3. What is an iterator in python? Name the method used to initialise the iterator object and the method\n",
        "used for iteration. Use these methods to print the first five elements of the given list [2, 4, 6, 8, 10, 12, 14,\n",
        "16, 18, 20].\n",
        "\n",
        "Ans: iterator in Python is an object that can be iterated upon, meaning that you can traverse through all the values.\n",
        "\n",
        "The iterator object is initialized using the iter() method, and the method used for iteration is next().\n"
      ],
      "metadata": {
        "id": "y_BKVzhgYv0y"
      }
    },
    {
      "cell_type": "code",
      "source": [
        "my_list = [2, 4, 6, 8, 10, 12, 14, 16, 18, 20]\n",
        "my_iterator = iter(my_list)\n",
        "\n",
        "for i in range(5):\n",
        "    print(next(my_iterator))\n"
      ],
      "metadata": {
        "colab": {
          "base_uri": "https://localhost:8080/"
        },
        "id": "ILHfKTlIZbH2",
        "outputId": "c3f67c85-39b2-4598-cf4a-a67c08da2291"
      },
      "execution_count": 25,
      "outputs": [
        {
          "output_type": "stream",
          "name": "stdout",
          "text": [
            "2\n",
            "4\n",
            "6\n",
            "8\n",
            "10\n"
          ]
        }
      ]
    },
    {
      "cell_type": "markdown",
      "source": [
        "Q4. What is a generator function in python? Why yield keyword is used? Give an example of a generator\n",
        "function.\n",
        "\n",
        "Ans: A generator function in Python is a special type of function that can be used to generate a series of values using the yield keyword.\n",
        "\n",
        "The yield keyword is used to return a value from the generator function and pause the function's execution. The function can be resumed later from where it left off, so it can generate a series of values over time."
      ],
      "metadata": {
        "id": "GGJGexzdYzGX"
      }
    },
    {
      "cell_type": "code",
      "source": [
        "def even_numbers():\n",
        "    num = 0\n",
        "    while True:\n",
        "        yield num\n",
        "        num += 2\n"
      ],
      "metadata": {
        "id": "1qw7scQDZk75"
      },
      "execution_count": 26,
      "outputs": []
    },
    {
      "cell_type": "markdown",
      "source": [
        "Q5. Create a generator function for prime numbers less than 1000. Use the next() method to print the\n",
        "first 20 prime numbers.\n",
        "\n",
        "Ans: Here's an example of a generator function for prime numbers less than 1000 and using the next() method to print the first 20 prime numbers:"
      ],
      "metadata": {
        "id": "EyJe4svqY0_g"
      }
    },
    {
      "cell_type": "code",
      "source": [
        "def prime_numbers():\n",
        "    num = 2\n",
        "    primes = []\n",
        "    while True:\n",
        "        is_prime = True\n",
        "        for i in range(2, int(num/2) + 1):\n",
        "            if num % i == 0:\n",
        "                is_prime = False\n",
        "                break\n",
        "        if is_prime:\n",
        "            primes.append(num)\n",
        "            yield num\n",
        "        num += 1\n",
        "\n",
        "prime_gen = prime_numbers()\n",
        "\n",
        "for i in range(20):\n",
        "    print(next(prime_gen))\n"
      ],
      "metadata": {
        "colab": {
          "base_uri": "https://localhost:8080/"
        },
        "id": "R38UEyXGarNo",
        "outputId": "e0b1819a-ff9f-4624-db56-c5ca513c2c1a"
      },
      "execution_count": 27,
      "outputs": [
        {
          "output_type": "stream",
          "name": "stdout",
          "text": [
            "2\n",
            "3\n",
            "5\n",
            "7\n",
            "11\n",
            "13\n",
            "17\n",
            "19\n",
            "23\n",
            "29\n",
            "31\n",
            "37\n",
            "41\n",
            "43\n",
            "47\n",
            "53\n",
            "59\n",
            "61\n",
            "67\n",
            "71\n"
          ]
        }
      ]
    },
    {
      "cell_type": "markdown",
      "source": [
        "Q6. Write a python program to print the first 10 Fibonacci numbers using a while loop."
      ],
      "metadata": {
        "id": "FuzWugTpY6xv"
      }
    },
    {
      "cell_type": "code",
      "source": [
        "a, b = 0, 1\n",
        "count = 0\n",
        "\n",
        "while count < 10:\n",
        "    print(a)\n",
        "    c = a + b\n",
        "    a = b\n",
        "    b = c\n",
        "    count += 1\n"
      ],
      "metadata": {
        "colab": {
          "base_uri": "https://localhost:8080/"
        },
        "id": "33A6cciWaxxx",
        "outputId": "ad53396b-27fd-4e73-e417-d3bbdb465ca0"
      },
      "execution_count": 28,
      "outputs": [
        {
          "output_type": "stream",
          "name": "stdout",
          "text": [
            "0\n",
            "1\n",
            "1\n",
            "2\n",
            "3\n",
            "5\n",
            "8\n",
            "13\n",
            "21\n",
            "34\n"
          ]
        }
      ]
    },
    {
      "cell_type": "markdown",
      "source": [
        "Q7. Write a List Comprehension to iterate through the given string: ‘pwskills’.\n",
        "Expected output: ['p', 'w', 's', 'k', 'i', 'l', 'l', 's']"
      ],
      "metadata": {
        "id": "n1h3vSBqY8e_"
      }
    },
    {
      "cell_type": "code",
      "source": [
        "my_string = 'pwskills'\n",
        "selected_chars = [char for char in my_string if char in ['p', 'w', 's', 'k', 'i', 'l']]\n",
        "print(selected_chars)\n"
      ],
      "metadata": {
        "colab": {
          "base_uri": "https://localhost:8080/"
        },
        "id": "1Va4f8_ja295",
        "outputId": "afe0773e-e12a-4a06-8448-41cb372c3970"
      },
      "execution_count": 29,
      "outputs": [
        {
          "output_type": "stream",
          "name": "stdout",
          "text": [
            "['p', 'w', 's', 'k', 'i', 'l', 'l', 's']\n"
          ]
        }
      ]
    },
    {
      "cell_type": "markdown",
      "source": [
        "Q8. Write a python program to check whether a given number is Palindrome or not using a while loop."
      ],
      "metadata": {
        "id": "mDpapw6sZAXY"
      }
    },
    {
      "cell_type": "code",
      "source": [
        "number = int(input(\"Enter a number: \"))\n",
        "temp = number\n",
        "reverse_number = 0\n",
        "\n",
        "while temp > 0:\n",
        "    digit = temp % 10\n",
        "    reverse_number = (reverse_number * 10) + digit\n",
        "    temp = temp // 10\n",
        "\n",
        "if number == reverse_number:\n",
        "    print(f\"{number} is a palindrome\")\n",
        "else:\n",
        "    print(f\"{number} is not a palindrome\")\n"
      ],
      "metadata": {
        "colab": {
          "base_uri": "https://localhost:8080/"
        },
        "id": "r2ETKu-hbRqB",
        "outputId": "07f5ba62-4e3e-4844-a30e-06f609d99e2c"
      },
      "execution_count": 30,
      "outputs": [
        {
          "output_type": "stream",
          "name": "stdout",
          "text": [
            "Enter a number: 88\n",
            "88 is a palindrome\n"
          ]
        }
      ]
    },
    {
      "cell_type": "markdown",
      "source": [
        "Q9. Write a code to print odd numbers from 1 to 100 using list comprehension."
      ],
      "metadata": {
        "id": "Dsl-gwajZESh"
      }
    },
    {
      "cell_type": "code",
      "source": [
        "odd_numbers = [num for num in range(1, 101) if num % 2 == 1]\n",
        "print(odd_numbers)\n"
      ],
      "metadata": {
        "colab": {
          "base_uri": "https://localhost:8080/"
        },
        "id": "PCD99UI4bvaa",
        "outputId": "075cfde8-d449-42bb-faa8-21b31bb990d3"
      },
      "execution_count": 31,
      "outputs": [
        {
          "output_type": "stream",
          "name": "stdout",
          "text": [
            "[1, 3, 5, 7, 9, 11, 13, 15, 17, 19, 21, 23, 25, 27, 29, 31, 33, 35, 37, 39, 41, 43, 45, 47, 49, 51, 53, 55, 57, 59, 61, 63, 65, 67, 69, 71, 73, 75, 77, 79, 81, 83, 85, 87, 89, 91, 93, 95, 97, 99]\n"
          ]
        }
      ]
    }
  ]
}